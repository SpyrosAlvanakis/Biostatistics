{
 "cells": [
  {
   "cell_type": "markdown",
   "metadata": {},
   "source": [
    "# **Assignment 1 Biostatistics**\n",
    "Spyridon Alvanakis Apostolou\n",
    "AM: ..."
   ]
  },
  {
   "cell_type": "code",
   "execution_count": 13,
   "metadata": {},
   "outputs": [],
   "source": [
    "import numpy as np\n",
    "from scipy import stats\n",
    "from scipy.stats import chi2\n",
    "from scipy.stats import wilcoxon\n",
    "from scipy.stats import chi2_contingency"
   ]
  },
  {
   "cell_type": "markdown",
   "metadata": {},
   "source": [
    "# **Exercise 1**"
   ]
  },
  {
   "cell_type": "markdown",
   "metadata": {},
   "source": [
    "It is known that the average myocardial transit time in healthy individuals is 4.5sec. Myocardial transit time was measured in 10 patients with occluded right coronary arteries.\n",
    "\n",
    "1) Test at the 5% significance level if the mean myocardial transit time of the population of patients with occluded right coronary arteries is equal to the value of 4.5sec. Present all steps of the test. Comment on whether the conclusions of the test are extended to all patients with occluded coronary arteries.\n",
    "2) Test at the 5% significance level if the standard deviation of the myocardial transit time of the population of patients with occluded right coronary arteries is equal to 0.6 sec."
   ]
  },
  {
   "cell_type": "code",
   "execution_count": 2,
   "metadata": {},
   "outputs": [
    {
     "data": {
      "text/plain": [
       "array([5.1, 5.6, 4.6, 3.8, 4.2, 5.1, 3.1, 3.7, 4.7, 3.3])"
      ]
     },
     "execution_count": 2,
     "metadata": {},
     "output_type": "execute_result"
    }
   ],
   "source": [
    "data = np.array([5.1, 5.6, 4.6, 3.8, 4.2, 5.1, 3.1, 3.7, 4.7, 3.3])\n",
    "data"
   ]
  },
  {
   "cell_type": "markdown",
   "metadata": {},
   "source": [
    "## Question 1"
   ]
  },
  {
   "cell_type": "markdown",
   "metadata": {},
   "source": [
    "**Steps when the population variance is unknown:** \n",
    "- Step 1 : We set the null hypothesis $H_0: \\mu=4.5$.\n",
    "- Step 2 : We set the alternative hypothesis $H_1: \\mu \\neq 4.5 since the hypothesis is two-tailed.\n",
    "- Step 3 : We set $t=\\sqrt{n}\\frac{\\bar{x}-4.5}{s}$ (which follows the Student’s t distribution with n-1 degrees of freedom) where s is the sample standard deviation.\n",
    "- Step 4 : We select the level of significance a and estimate the corresponding point $t_{a/2,n-1}$.\n",
    "- Step 5 : We calculate the value of t for the sample.\n",
    "- Step 6 : We reject the null hypothesis in favor of $H_1 : \\mu \\neq 4.5$  if $|t|>t_{a/2,n-1}$ (two-tailed hypothesis test)."
   ]
  },
  {
   "cell_type": "code",
   "execution_count": 3,
   "metadata": {},
   "outputs": [],
   "source": [
    "a = 0.05\n",
    "n = len(data)\n",
    "x_bar = np.mean(data)\n",
    "s = np.std(data, ddof=1)"
   ]
  },
  {
   "cell_type": "code",
   "execution_count": 4,
   "metadata": {},
   "outputs": [
    {
     "name": "stdout",
     "output_type": "stream",
     "text": [
      "Calculated t-value: -0.6816356439122179\n",
      "Critical t-value: 2.2621571627409915\n",
      "Do not reject the null hypothesis.\n",
      "There is not enough evidence at the 5% significance\n",
      "level to conclude that the mean myocardial transit time\n",
      "of patients with occluded right coronary arteries is\n",
      "different from 4.5 sec.\n"
     ]
    }
   ],
   "source": [
    "t_val = (x_bar - 4.5) / (s / np.sqrt(n))\n",
    "critical_t = stats.t.ppf(1 - a/2, df=n-1)\n",
    "\n",
    "print(f\"Calculated t-value: {t_val}\")\n",
    "print(f\"Critical t-value: {critical_t}\")\n",
    "\n",
    "\n",
    "if abs(t_val) > critical_t:\n",
    "    print(\"Reject the null hypothesis.\")\n",
    "    print(\"There is enough evidence at the 5% significance level to conclude that the mean myocardial transit time of patients with occluded right coronary arteries is different from 4.5 sec.\")\n",
    "else:\n",
    "    print(\"Do not reject the null hypothesis.\")\n",
    "    print(\"\"\"There is not enough evidence at the 5% significance\n",
    "level to conclude that the mean myocardial transit time\n",
    "of patients with occluded right coronary arteries is\n",
    "different from 4.5 sec.\"\"\")"
   ]
  },
  {
   "cell_type": "code",
   "execution_count": 5,
   "metadata": {},
   "outputs": [
    {
     "name": "stdout",
     "output_type": "stream",
     "text": [
      "95% confidence interval for the mean: (3.7226305799439445, 4.9173694200560565)\n"
     ]
    }
   ],
   "source": [
    "margin_of_error = critical_t * (s / np.sqrt(n))\n",
    "confidence_interval = (x_bar - margin_of_error, x_bar + margin_of_error)\n",
    "\n",
    "print(f\"95% confidence interval for the mean: {confidence_interval}\")"
   ]
  },
  {
   "cell_type": "markdown",
   "metadata": {},
   "source": [
    "While the results suggest that the null hypothesis may hold true for a subset of patients with occluded coronary arteries, the limited sample size in this study cautions against generalizing these findings to a broader population of patients."
   ]
  },
  {
   "cell_type": "markdown",
   "metadata": {},
   "source": [
    "## Question 2"
   ]
  },
  {
   "cell_type": "markdown",
   "metadata": {},
   "source": [
    "**Steps for hypothesis Tests for the Variance**\n",
    "\n",
    "- Step 1: We set the null hypothesis $H_0: \\sigma = 0.6$.\n",
    "- Step 2: We set the alternative hypothesis $H_1: \\sigma \\neq 0.6$ for the two tailed hypothesis.\n",
    "- Step 3 : We set $\\chi ^2=\\frac{(n-1)S^2}{\\sigma_0^2}$                 (which $\\chi$ follows the chi-square distribution and $S^2$ is the samples variance).\n",
    "- Step 4 : We select the significance level a and specify the points $\\chi_{(n-1);a/2}^2$ and $\\chi_{(n-1);1-a/2}^2$.\n",
    "- Step 5 : We calculate the value of $\\chi^2$ for the sample.\n",
    "- Step 6 : We reject the null hypothesis in favor of $H_1: \\sigma \\neq 0.6$ if $\\chi^2>\\chi_{(n-1);a/2}^2$ or $\\chi^2<\\chi_{(n-1);1-a/2}^2$  (two-tailed test)"
   ]
  },
  {
   "cell_type": "code",
   "execution_count": 6,
   "metadata": {},
   "outputs": [],
   "source": [
    "S_2 = np.var(data, ddof=1)\n",
    "chi_squared_stat = (n-1) * S_2 / (0.6**2)"
   ]
  },
  {
   "cell_type": "code",
   "execution_count": 7,
   "metadata": {},
   "outputs": [],
   "source": [
    "chi2_lower = chi2.ppf(a/2, df=n-1)\n",
    "chi2_upper = chi2.ppf(1-a/2, df=n-1)\n"
   ]
  },
  {
   "cell_type": "code",
   "execution_count": 8,
   "metadata": {},
   "outputs": [
    {
     "name": "stdout",
     "output_type": "stream",
     "text": [
      "Do not reject the null hypothesis at the\n",
      "5.0% significance level.\n",
      "The observed chi-squared stat of \n",
      "17.4333 is inside the interval\n",
      "(2.7004, 19.0228).\n"
     ]
    }
   ],
   "source": [
    "if chi_squared_stat < chi2_lower or chi_squared_stat > chi2_upper:\n",
    "    print(f\"\"\"Reject the null hypothesis at the\n",
    "          {a*100}% significance level.\"\"\")\n",
    "    print(f\"\"\"The observed chi-squared stat of \n",
    "          {chi_squared_stat:.4f} is outside the interval \n",
    "          ({chi2_lower:.4f}, {chi2_upper:.4f}).\"\"\")\n",
    "else:\n",
    "    print(f\"\"\"Do not reject the null hypothesis at the\n",
    "{a*100}% significance level.\"\"\")\n",
    "    print(f\"\"\"The observed chi-squared stat of \n",
    "{chi_squared_stat:.4f} is inside the interval\n",
    "({chi2_lower:.4f}, {chi2_upper:.4f}).\"\"\")\n"
   ]
  },
  {
   "cell_type": "markdown",
   "metadata": {},
   "source": [
    "# **Exercise 2**"
   ]
  },
  {
   "cell_type": "markdown",
   "metadata": {},
   "source": [
    "A dentist’s patients listen to the FM1 radio station during dental treatment as she believes that this calms them down. The dentist conducted a large survey of her patients' stress levels, asking them to rate the level of stress they felt during their dental treatment on a scale of 1 to 10 (\"1\" being no stress and \"10\" in the case of excessive stress). The responses followed a non-normal but symmetric distribution with a median equal to 4. In order to improve the relaxation levels of her patients during dental treatment, the dentist changed the radio station FM1 to the radio station FM2. She asked 18 of her random patients to rate on a scale of 1 to 10 their stress levels during dental treatment while listening to the FM2 radio station. Test at the 10% level of significance whether the FM2 radio station changed the stress level of patients."
   ]
  },
  {
   "cell_type": "markdown",
   "metadata": {},
   "source": [
    "**Solution**"
   ]
  },
  {
   "cell_type": "markdown",
   "metadata": {},
   "source": [
    "Since the data:\n",
    "- Do not follow Normal distribution.\n",
    "- Are following a symmetric distribution.\n",
    "- Are discrete.\n",
    "- Have size less than 30.\n",
    "- Are considered as unpaired.\n",
    "- Comes from a random sample.\n",
    "\n",
    "The non parametric methods are appropriate to determine if the FM2 radio station influenced the stress levels of patients at the 10% significance level. To determine the answer, I will conduct a two-tailed test.\n",
    "\n",
    "I want to know if one group is different from a hypothesized population value from which i only have the median value. The above characteristics corresponds to the Wilcoxon Signed-Rank Test for one population.\n",
    "\n",
    "The null hypothesis $H_0$ is that the median of the distribution of the stress levels of the patiens which listened to FM2 is 4. The alternative hypothesis $H_1$ is that the median is not 4. "
   ]
  },
  {
   "cell_type": "code",
   "execution_count": 9,
   "metadata": {},
   "outputs": [
    {
     "data": {
      "text/plain": [
       "array([ 8,  2,  6,  3,  4,  3,  4,  3, 10,  1,  6,  3,  9,  3,  6,  6,  4,\n",
       "        6])"
      ]
     },
     "execution_count": 9,
     "metadata": {},
     "output_type": "execute_result"
    }
   ],
   "source": [
    "data = np.array([8, 2, 6, 3, 4, 3, 4, 3, 10, 1, 6, 3, 9, 3, 6, 6, 4, 6])\n",
    "data"
   ]
  },
  {
   "cell_type": "code",
   "execution_count": 10,
   "metadata": {},
   "outputs": [
    {
     "name": "stdout",
     "output_type": "stream",
     "text": [
      "Do not reject the null hypothesis. The p-value is 0.1594\n"
     ]
    },
    {
     "name": "stderr",
     "output_type": "stream",
     "text": [
      "C:\\Users\\akisn\\AppData\\Roaming\\Python\\Python310\\site-packages\\scipy\\stats\\_morestats.py:3337: UserWarning: Exact p-value calculation does not work if there are zeros. Switching to normal approximation.\n",
      "  warnings.warn(\"Exact p-value calculation does not work if there are \"\n"
     ]
    }
   ],
   "source": [
    "a = 0.1\n",
    "differences = data - 4\n",
    "\n",
    "_, pvalue = wilcoxon(differences, alternative='two-sided')\n",
    "\n",
    "if pvalue < a:\n",
    "    print(f\"Reject the null hypothesis. The p-value is {pvalue:.4f}\")\n",
    "else:\n",
    "    print(f\"Do not reject the null hypothesis. The p-value is {pvalue:.4f}\")"
   ]
  },
  {
   "cell_type": "markdown",
   "metadata": {},
   "source": [
    "Since the null hypothesis is not rejected I can assume that both populations follows a symmetric distribution with significance=10%.\n",
    "\n",
    "Eventually the FM2 radio station does not seems to change the stess levels of the patients."
   ]
  },
  {
   "cell_type": "markdown",
   "metadata": {},
   "source": [
    "# **Exercise 3**"
   ]
  },
  {
   "cell_type": "markdown",
   "metadata": {},
   "source": [
    "In order to assess the effectiveness of the vaccine against covid-19, a sample of 58 people who were vaccinated with the covid-19 vaccine and 49 people who were not vaccinated with the covid-19 vaccine were studied. Of the people vaccinated against covid-19, 16 got sick from covid-19 within 12 months from vaccination. Of the people who were not vaccinated, 39 got sick from covid-19 within 12 months from vaccination.\n",
    "1) Examine whether there is a (statistically significant) relationship between vaccination against covid-19 and not getting sick from covid-19.\n",
    "2) What is the maximum number of people in the sample of 58 people who were vaccinated that would be acceptable to get sick from covid-19 in order to conclude that there is a (statistically significant) relationship between vaccination against covid-19 and not getting sick from covid-19?"
   ]
  },
  {
   "cell_type": "markdown",
   "metadata": {},
   "source": [
    "## Question 1"
   ]
  },
  {
   "cell_type": "markdown",
   "metadata": {},
   "source": [
    "In order to find if there is statistical significant relationship between the vaccination against covid-19 and not getting sick  from covid-19, I will apply the chi-squared test.\n",
    "\n",
    "The chi-squared testcompares the observed frequencies against the theoretically expected frequencies assuming that the null hypothesis is true. The null hypothesis is that there is NO DIFFERENCE in the distributions between the populations under study. It also makes the assumption that the observations are independent which in our case is true.\n",
    "\n",
    "The following table is the contingency table and contains the frequencies corresponding to any combination of the categories of the variables under study."
   ]
  },
  {
   "cell_type": "markdown",
   "metadata": {},
   "source": [
    "$$\n",
    "\\begin{array}{|c|c|}\n",
    "\\hline\n",
    " & \\textbf{Vaccinated} & \\textbf{Not Vaccinated} \\\\\n",
    "\\hline\n",
    "\\textbf{Got Sick} & 16 & 39 \\\\\n",
    "\\hline\n",
    "\\textbf{Didn't Get Sick} & 42 & 10 \\\\\n",
    "\\hline\n",
    "\\end{array}\n",
    "$$"
   ]
  },
  {
   "cell_type": "markdown",
   "metadata": {},
   "source": [
    "**Steps of the chi-square test for independence:**\n",
    "- Step 1 : We set the null hypothesis $H_0$: “There is no dependence between the variables under study”\n",
    "- Step 2 : The alternative hypothesis $H_1$ is: “There is dependence between the variables under study”.\n",
    "- Step 3 : We estimate the theoretically expected frequencies $E_i$ in accordance with the null hypothesis.\n",
    "- Step 4 : We set $\\chi^2 = \\sum_{i=1}^{rc}\\frac{(O_i-E_i)^2}{E_i}$ (which follows the chi-square distribution with $df=(c-1)(r-1)$ degrees of freedom), where Oi are the observed frequencies. \n",
    "- Step 5a : We calculate the value of $x_2$ and (from the chi-square cdf we calculate) the probability $P$ that corresponds to $x_2$.\n",
    "- Step 5b : We select the significance level a (in our case is 5%).\n",
    "- Step 6 : We reject the null hypothesis H0 in favor of $H_1$ if $P>1-a$.\n"
   ]
  },
  {
   "cell_type": "code",
   "execution_count": 11,
   "metadata": {},
   "outputs": [
    {
     "data": {
      "text/plain": [
       "array([[16, 39],\n",
       "       [42, 10]])"
      ]
     },
     "execution_count": 11,
     "metadata": {},
     "output_type": "execute_result"
    }
   ],
   "source": [
    "data = np.array([[16, 39], [42, 10]])\n",
    "data"
   ]
  },
  {
   "cell_type": "code",
   "execution_count": 20,
   "metadata": {},
   "outputs": [
    {
     "name": "stdout",
     "output_type": "stream",
     "text": [
      "The relationship between vaccination and not getting sick is\n",
      "statistically significant with p-value 2.36058898681215e-07\n"
     ]
    }
   ],
   "source": [
    "_, pvalue, _, _ = chi2_contingency(data)\n",
    "\n",
    "if pvalue < 0.05:\n",
    "    print(f\"\"\"The relationship between vaccination and not getting sick is\n",
    "statistically significant with p-value {pvalue}\"\"\")\n",
    "else:\n",
    "    print(f\"\"\"There is no statistically significant relationship\n",
    "between vaccination and not getting sick. p-value = {pvalue}\"\"\")"
   ]
  },
  {
   "cell_type": "markdown",
   "metadata": {},
   "source": [
    "## Question 2"
   ]
  },
  {
   "cell_type": "code",
   "execution_count": 18,
   "metadata": {},
   "outputs": [
    {
     "data": {
      "text/plain": [
       "array([[29.81308411, 25.18691589],\n",
       "       [28.18691589, 23.81308411]])"
      ]
     },
     "execution_count": 18,
     "metadata": {},
     "output_type": "execute_result"
    }
   ],
   "source": []
  },
  {
   "cell_type": "code",
   "execution_count": null,
   "metadata": {},
   "outputs": [],
   "source": []
  },
  {
   "cell_type": "code",
   "execution_count": null,
   "metadata": {},
   "outputs": [],
   "source": []
  }
 ],
 "metadata": {
  "kernelspec": {
   "display_name": "base",
   "language": "python",
   "name": "python3"
  },
  "language_info": {
   "codemirror_mode": {
    "name": "ipython",
    "version": 3
   },
   "file_extension": ".py",
   "mimetype": "text/x-python",
   "name": "python",
   "nbconvert_exporter": "python",
   "pygments_lexer": "ipython3",
   "version": "3.10.5"
  },
  "orig_nbformat": 4
 },
 "nbformat": 4,
 "nbformat_minor": 2
}
