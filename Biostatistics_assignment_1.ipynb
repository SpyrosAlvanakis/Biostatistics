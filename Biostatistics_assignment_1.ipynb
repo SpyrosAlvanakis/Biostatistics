{
 "cells": [
  {
   "cell_type": "code",
   "execution_count": 6,
   "metadata": {},
   "outputs": [],
   "source": [
    "import numpy as np\n",
    "from scipy import stats\n"
   ]
  },
  {
   "cell_type": "markdown",
   "metadata": {},
   "source": [
    "# **Exercise 1**"
   ]
  },
  {
   "cell_type": "markdown",
   "metadata": {},
   "source": [
    "It is known that the average myocardial transit time in healthy individuals is 4.5sec. Myocardial transit time was measured in 10 patients with occluded right coronary arteries.\n",
    "\n",
    "1) Test at the 5% significance level if the mean myocardial transit time of the population of patients with occluded right coronary arteries is equal to the value of 4.5sec. Present all steps of the test. Comment on whether the conclusions of the test are extended to all patients with occluded coronary arteries.\n",
    "2) Test at the 5% significance level if the standard deviation of the myocardial transit time of the population of patients with occluded right coronary arteries is equal to 0.6 sec."
   ]
  },
  {
   "cell_type": "code",
   "execution_count": 3,
   "metadata": {},
   "outputs": [
    {
     "data": {
      "text/plain": [
       "array([5.1, 5.6, 4.6, 3.8, 4.2, 5.1, 3.1, 3.7, 4.7, 3.3])"
      ]
     },
     "execution_count": 3,
     "metadata": {},
     "output_type": "execute_result"
    }
   ],
   "source": [
    "data = np.array([5.1, 5.6, 4.6, 3.8, 4.2, 5.1, 3.1, 3.7, 4.7, 3.3])\n",
    "data"
   ]
  },
  {
   "cell_type": "markdown",
   "metadata": {},
   "source": []
  },
  {
   "cell_type": "markdown",
   "metadata": {},
   "source": [
    "**Steps when the population variance is unknown:** \n",
    "- Step 1 : We set the null hypothesis $H_0: \\mu=4.5$.\n",
    "- Step 2 : We set the alternative hypothesis $H_1: \\mu \\neq 4.5 since the hypothesis is two-tailed.\n",
    "- Step 3 : We set $t=\\sqrt{n}\\frac{\\bar{x}-4.5}{s}$ (which follows the Student’s t distribution with n-1 degrees of freedom) where s is the sample standard deviation.\n",
    "- Step 4 : We select the level of significance a and estimate the corresponding point $t_{a/2,n-1}$.\n",
    "- Step 5 : We calculate the value of t for the sample.\n",
    "- Step 6 : We reject the null hypothesis in favor of $H_1 : \\mu \\neq 4.5$  if $|t|>t_{a/2,n-1}$ (two-tailed hypothesis test).\n"
   ]
  },
  {
   "cell_type": "code",
   "execution_count": 4,
   "metadata": {},
   "outputs": [],
   "source": [
    "n = len(data)\n",
    "x_bar = np.mean(data)\n",
    "s = np.std(data, ddof=1)"
   ]
  },
  {
   "cell_type": "code",
   "execution_count": 7,
   "metadata": {},
   "outputs": [
    {
     "name": "stdout",
     "output_type": "stream",
     "text": [
      "Calculated t-value: -0.6816356439122179\n",
      "Critical t-value: 2.2621571627409915\n"
     ]
    }
   ],
   "source": [
    "t_val = (x_bar - 4.5) / (s / np.sqrt(n))\n",
    "critical_t = stats.t.ppf(1 - 0.025, df=n-1)\n",
    "\n",
    "print(f\"Calculated t-value: {t_val}\")\n",
    "print(f\"Critical t-value: {critical_t}\")"
   ]
  },
  {
   "cell_type": "code",
   "execution_count": 8,
   "metadata": {},
   "outputs": [
    {
     "name": "stdout",
     "output_type": "stream",
     "text": [
      "95% confidence interval for the mean: (3.7226305799439445, 4.9173694200560565)\n"
     ]
    }
   ],
   "source": [
    "margin_of_error = critical_t * (s / np.sqrt(n))\n",
    "confidence_interval = (x_bar - margin_of_error, x_bar + margin_of_error)\n",
    "\n",
    "print(f\"95% confidence interval for the mean: {confidence_interval}\")"
   ]
  },
  {
   "cell_type": "markdown",
   "metadata": {},
   "source": [
    "## Question 1"
   ]
  },
  {
   "cell_type": "code",
   "execution_count": null,
   "metadata": {},
   "outputs": [],
   "source": []
  }
 ],
 "metadata": {
  "kernelspec": {
   "display_name": "base",
   "language": "python",
   "name": "python3"
  },
  "language_info": {
   "codemirror_mode": {
    "name": "ipython",
    "version": 3
   },
   "file_extension": ".py",
   "mimetype": "text/x-python",
   "name": "python",
   "nbconvert_exporter": "python",
   "pygments_lexer": "ipython3",
   "version": "3.9.13"
  },
  "orig_nbformat": 4
 },
 "nbformat": 4,
 "nbformat_minor": 2
}
