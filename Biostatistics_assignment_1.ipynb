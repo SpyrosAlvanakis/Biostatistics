{
 "cells": [
  {
   "cell_type": "code",
   "execution_count": 24,
   "metadata": {},
   "outputs": [],
   "source": [
    "import numpy as np\n",
    "from scipy import stats\n",
    "from scipy.stats import chi2\n",
    "from scipy.stats import wilcoxon"
   ]
  },
  {
   "cell_type": "markdown",
   "metadata": {},
   "source": [
    "# **Exercise 1**"
   ]
  },
  {
   "cell_type": "markdown",
   "metadata": {},
   "source": [
    "It is known that the average myocardial transit time in healthy individuals is 4.5sec. Myocardial transit time was measured in 10 patients with occluded right coronary arteries.\n",
    "\n",
    "1) Test at the 5% significance level if the mean myocardial transit time of the population of patients with occluded right coronary arteries is equal to the value of 4.5sec. Present all steps of the test. Comment on whether the conclusions of the test are extended to all patients with occluded coronary arteries.\n",
    "2) Test at the 5% significance level if the standard deviation of the myocardial transit time of the population of patients with occluded right coronary arteries is equal to 0.6 sec."
   ]
  },
  {
   "cell_type": "code",
   "execution_count": 3,
   "metadata": {},
   "outputs": [
    {
     "data": {
      "text/plain": [
       "array([5.1, 5.6, 4.6, 3.8, 4.2, 5.1, 3.1, 3.7, 4.7, 3.3])"
      ]
     },
     "execution_count": 3,
     "metadata": {},
     "output_type": "execute_result"
    }
   ],
   "source": [
    "data = np.array([5.1, 5.6, 4.6, 3.8, 4.2, 5.1, 3.1, 3.7, 4.7, 3.3])\n",
    "data"
   ]
  },
  {
   "cell_type": "markdown",
   "metadata": {},
   "source": [
    "## Question 1"
   ]
  },
  {
   "cell_type": "markdown",
   "metadata": {},
   "source": [
    "**Steps when the population variance is unknown:** \n",
    "- Step 1 : We set the null hypothesis $H_0: \\mu=4.5$.\n",
    "- Step 2 : We set the alternative hypothesis $H_1: \\mu \\neq 4.5 since the hypothesis is two-tailed.\n",
    "- Step 3 : We set $t=\\sqrt{n}\\frac{\\bar{x}-4.5}{s}$ (which follows the Student’s t distribution with n-1 degrees of freedom) where s is the sample standard deviation.\n",
    "- Step 4 : We select the level of significance a and estimate the corresponding point $t_{a/2,n-1}$.\n",
    "- Step 5 : We calculate the value of t for the sample.\n",
    "- Step 6 : We reject the null hypothesis in favor of $H_1 : \\mu \\neq 4.5$  if $|t|>t_{a/2,n-1}$ (two-tailed hypothesis test)."
   ]
  },
  {
   "cell_type": "code",
   "execution_count": 12,
   "metadata": {},
   "outputs": [],
   "source": [
    "a = 0.05\n",
    "n = len(data)\n",
    "x_bar = np.mean(data)\n",
    "s = np.std(data, ddof=1)"
   ]
  },
  {
   "cell_type": "code",
   "execution_count": 13,
   "metadata": {},
   "outputs": [
    {
     "name": "stdout",
     "output_type": "stream",
     "text": [
      "Calculated t-value: -0.6816356439122179\n",
      "Critical t-value: 2.2621571627409915\n",
      "Do not reject the null hypothesis.\n",
      "There is not enough evidence at the 5% significance\n",
      "level to conclude that the mean myocardial transit time\n",
      "of patients with occluded right coronary arteries is\n",
      "different from 4.5 sec.\n"
     ]
    }
   ],
   "source": [
    "t_val = (x_bar - 4.5) / (s / np.sqrt(n))\n",
    "critical_t = stats.t.ppf(1 - a/2, df=n-1)\n",
    "\n",
    "print(f\"Calculated t-value: {t_val}\")\n",
    "print(f\"Critical t-value: {critical_t}\")\n",
    "\n",
    "\n",
    "if abs(t_val) > critical_t:\n",
    "    print(\"Reject the null hypothesis.\")\n",
    "    print(\"There is enough evidence at the 5% significance level to conclude that the mean myocardial transit time of patients with occluded right coronary arteries is different from 4.5 sec.\")\n",
    "else:\n",
    "    print(\"Do not reject the null hypothesis.\")\n",
    "    print(\"\"\"There is not enough evidence at the 5% significance\n",
    "level to conclude that the mean myocardial transit time\n",
    "of patients with occluded right coronary arteries is\n",
    "different from 4.5 sec.\"\"\")"
   ]
  },
  {
   "cell_type": "code",
   "execution_count": 14,
   "metadata": {},
   "outputs": [
    {
     "name": "stdout",
     "output_type": "stream",
     "text": [
      "95% confidence interval for the mean: (3.7226305799439445, 4.9173694200560565)\n"
     ]
    }
   ],
   "source": [
    "margin_of_error = critical_t * (s / np.sqrt(n))\n",
    "confidence_interval = (x_bar - margin_of_error, x_bar + margin_of_error)\n",
    "\n",
    "print(f\"95% confidence interval for the mean: {confidence_interval}\")"
   ]
  },
  {
   "cell_type": "markdown",
   "metadata": {},
   "source": [
    "While the results suggest that the null hypothesis may hold true for a subset of patients with occluded coronary arteries, the limited sample size in this study cautions against generalizing these findings to a broader population of patients."
   ]
  },
  {
   "cell_type": "markdown",
   "metadata": {},
   "source": [
    "## Question 2"
   ]
  },
  {
   "cell_type": "markdown",
   "metadata": {},
   "source": [
    "**Steps for hypothesis Tests for the Variance**\n",
    "\n",
    "- Step 1: We set the null hypothesis $H_0: \\sigma = 0.6$.\n",
    "- Step 2: We set the alternative hypothesis $H_1: \\sigma \\neq 0.6$ for the two tailed hypothesis.\n",
    "- Step 3 : We set $\\chi ^2=\\frac{(n-1)S^2}{\\sigma_0^2}$                 (which $\\chi$ follows the chi-square distribution and $S^2$ is the samples variance).\n",
    "- Step 4 : We select the significance level a and specify the points $\\chi_{(n-1);a/2}^2$ and $\\chi_{(n-1);1-a/2}^2$.\n",
    "- Step 5 : We calculate the value of $\\chi^2$ for the sample.\n",
    "- Step 6 : We reject the null hypothesis in favor of $H_1: \\sigma \\neq 0.6$ if $\\chi^2>\\chi_{(n-1);a/2}^2$ or $\\chi^2<\\chi_{(n-1);1-a/2}^2$  (two-tailed test)"
   ]
  },
  {
   "cell_type": "code",
   "execution_count": 20,
   "metadata": {},
   "outputs": [],
   "source": [
    "S_2 = np.var(data, ddof=1)\n",
    "chi_squared_stat = (n-1) * S_2 / (0.6**2)"
   ]
  },
  {
   "cell_type": "code",
   "execution_count": 21,
   "metadata": {},
   "outputs": [],
   "source": [
    "chi2_lower = chi2.ppf(a/2, df=n-1)\n",
    "chi2_upper = chi2.ppf(1-a/2, df=n-1)\n"
   ]
  },
  {
   "cell_type": "code",
   "execution_count": 22,
   "metadata": {},
   "outputs": [
    {
     "name": "stdout",
     "output_type": "stream",
     "text": [
      "Do not reject the null hypothesis at the\n",
      "5.0% significance level.\n",
      "The observed chi-squared stat of \n",
      "17.4333 is inside the interval\n",
      "(2.7004, 19.0228).\n"
     ]
    }
   ],
   "source": [
    "if chi_squared_stat < chi2_lower or chi_squared_stat > chi2_upper:\n",
    "    print(f\"\"\"Reject the null hypothesis at the\n",
    "          {a*100}% significance level.\"\"\")\n",
    "    print(f\"\"\"The observed chi-squared stat of \n",
    "          {chi_squared_stat:.4f} is outside the interval \n",
    "          ({chi2_lower:.4f}, {chi2_upper:.4f}).\"\"\")\n",
    "else:\n",
    "    print(f\"\"\"Do not reject the null hypothesis at the\n",
    "{a*100}% significance level.\"\"\")\n",
    "    print(f\"\"\"The observed chi-squared stat of \n",
    "{chi_squared_stat:.4f} is inside the interval\n",
    "({chi2_lower:.4f}, {chi2_upper:.4f}).\"\"\")\n"
   ]
  },
  {
   "cell_type": "markdown",
   "metadata": {},
   "source": [
    "# Exercise 2"
   ]
  },
  {
   "cell_type": "markdown",
   "metadata": {},
   "source": [
    "A dentist’s patients listen to the FM1 radio station during dental treatment as she believes that this calms them down. The dentist conducted a large survey of her patients' stress levels, asking them to rate the level of stress they felt during their dental treatment on a scale of 1 to 10 (\"1\" being no stress and \"10\" in the case of excessive stress). The responses followed a non-normal but symmetric distribution with a median equal to 4. In order to improve the relaxation levels of her patients during dental treatment, the dentist changed the radio station FM1 to the radio station FM2. She asked 18 of her random patients to rate on a scale of 1 to 10 their stress levels during dental treatment while listening to the FM2 radio station. Test at the 10% level of significance whether the FM2 radio station changed the stress level of patients."
   ]
  },
  {
   "cell_type": "markdown",
   "metadata": {},
   "source": [
    "**Solution**"
   ]
  },
  {
   "cell_type": "markdown",
   "metadata": {},
   "source": [
    "The data illustrate a non-normal, symmetric distribution. Given that we have only 18 data points for the FM2 radio station and the data set size is less than 30, non-parametric methods are appropriate. To determine if the FM2 radio station influenced the stress levels of patients at the 10% significance level, I will conduct a two-tailed test\n",
    "\n",
    "Since the data are:\n",
    "- Do not follow Normal distribution\n",
    "- Are symmetric \n",
    "- Are discrete\n",
    "- Have size less than 30\n",
    "\n",
    "The non parametric methods are appropriate to determine if the FM2 radio station influenced the stress levels of patients at the 10% significance level. To determine the answer, I will conduct a two-tailed test.\n"
   ]
  },
  {
   "cell_type": "code",
   "execution_count": 23,
   "metadata": {},
   "outputs": [
    {
     "data": {
      "text/plain": [
       "array([ 8,  2,  6,  3,  4,  3,  4,  3, 10,  1,  6,  3,  9,  3,  6,  6,  4,\n",
       "        6])"
      ]
     },
     "execution_count": 23,
     "metadata": {},
     "output_type": "execute_result"
    }
   ],
   "source": [
    "data = np.array([8, 2, 6, 3, 4, 3, 4, 3, 10, 1, 6, 3, 9, 3, 6, 6, 4, 6])\n",
    "data"
   ]
  },
  {
   "cell_type": "code",
   "execution_count": 29,
   "metadata": {},
   "outputs": [
    {
     "name": "stdout",
     "output_type": "stream",
     "text": [
      "Do not reject the null hypothesis. The p-value is 0.1594\n"
     ]
    }
   ],
   "source": [
    "a = 0.1\n",
    "differences = data - 4\n",
    "\n",
    "_, pvalue = wilcoxon(differences, alternative='two-sided')\n",
    "\n",
    "if pvalue < a:\n",
    "    print(f\"Reject the null hypothesis. The p-value is {pvalue:.4f}\")\n",
    "else:\n",
    "    print(f\"Do not reject the null hypothesis. The p-value is {pvalue:.4f}\")"
   ]
  },
  {
   "cell_type": "code",
   "execution_count": null,
   "metadata": {},
   "outputs": [],
   "source": []
  }
 ],
 "metadata": {
  "kernelspec": {
   "display_name": "base",
   "language": "python",
   "name": "python3"
  },
  "language_info": {
   "codemirror_mode": {
    "name": "ipython",
    "version": 3
   },
   "file_extension": ".py",
   "mimetype": "text/x-python",
   "name": "python",
   "nbconvert_exporter": "python",
   "pygments_lexer": "ipython3",
   "version": "3.9.13"
  },
  "orig_nbformat": 4
 },
 "nbformat": 4,
 "nbformat_minor": 2
}
